{
 "cells": [
  {
   "cell_type": "markdown",
   "id": "405dc77e-dfb4-44c5-a686-33ed3e845da1",
   "metadata": {},
   "source": [
    "Objective: build a model to predict whether a book will be popular or not. \n",
    "\n",
    "Dataset contains:\n",
    "* `price`\n",
    "* `popularity` (target variable)\n",
    "* `review/summary`\n",
    "* `review/text`\n",
    "* `review/helpfulness`\n",
    "* `authors`\n",
    "* `categories`"
   ]
  },
  {
   "cell_type": "code",
   "execution_count": 91,
   "id": "a8010c2d-a710-4900-931d-96cc39499b25",
   "metadata": {
    "executionCancelledAt": null,
    "executionTime": 260,
    "lastExecutedAt": 1746933117483,
    "lastExecutedByKernel": "7b9f45f3-d61d-44d5-9d77-7ed107c294e3",
    "lastScheduledRunId": null,
    "lastSuccessfullyExecutedCode": "# Import some required packages\nimport pandas as pd\n\n# Read in the dataset\nbooks = pd.read_csv(\"data/books.csv\")\n\n# Preview the first five rows\nbooks.head()",
    "outputsMetadata": {
     "0": {
      "height": 50,
      "tableState": {
       "customFilter": {
        "const": {
         "type": "boolean",
         "valid": true,
         "value": true
        },
        "id": "8c967c5a-6732-4466-a202-d17a326162cb",
        "nodeType": "const"
       }
      },
      "type": "dataFrame"
     }
    }
   },
   "outputs": [
    {
     "data": {
      "application/com.datacamp.data-table.v2+json": {
       "table": {
        "data": {
         "authors": [
          "'Elizabeth Norman'",
          "'Yong-gi Cho'",
          "'Muata Ashby'",
          "'Lynden Harris'",
          "'Harvey Seymour Gross', 'Robert McDowell'"
         ],
         "categories": [
          "'History'",
          "'Religion'",
          "'Body, Mind & Spirit'",
          "'Social Science'",
          "'Poetry'"
         ],
         "description": [
          "In the fall of 1941, the Philippines was a gardenia-scented paradise for the American Army and Navy nurses stationed there. War was a distant rumor, life a routine of easy shifts and dinners under the stars. On December 8 all that changed, as Japanese bombs began raining down on American bases in Luzon, and this paradise became a fiery hell. Caught in the raging battle, the nurses set up field hospitals in the jungles of Bataan and the tunnels of Corregidor, where they tended to the most devastating injuries of war, and suffered the terrors of shells and shrapnel. But the worst was yet to come. After Bataan and Corregidor fell, the nurses were herded into internment camps where they would endure three years of fear, brutality, and starvation. Once liberated, they returned to an America that at first celebrated them, but later refused to honor their leaders with the medals they clearly deserved. Here, in letters, diaries, and riveting firsthand accounts, is the story of what really happened during those dark days, woven together in a deeply affecting saga of women in war. Praise for We Band of Angels “Gripping . . . a war story in which the main characters never kill one of the enemy, or even shoot at him, but are nevertheless heroes . . . Americans today should thank God we had such women.”—Stephen E. Ambrose “Remarkable and uplifting.”—USA Today “[Elizabeth M. Norman] brings a quiet, scholarly voice to this narrative. . . . In just a little over six months these women had turned from plucky young girls on a mild adventure to authentic heroes. . . . Every page of this history is fascinating.”—Carolyn See, The Washington Post “Riveting . . . poignant and powerful.”—The Dallas Morning News Winner of the Lavinia Dock Award for historical scholarship, the American Academy of Nursing National Media Award, and the Agnes Dillon Randolph Award",
          "In Prayer That Brings Revival, best-selling author David Yonggi Cho shares key principles to having the kind of prayer life that will move your mountains and stir revival in home, church, and community. This book will: -Show you how prayer produces power. -Teach you the key to prayer and fasting. -Prepare you to wait on the Lord. -Help you to pray longer, with more persistence. -Instruct you on how to listen to God's voice.",
          "THE MYSTICAL JOURNEY FROM JESUS TO CHRIST Discover the ancient Egyptian origins of Christianity before the Catholic Church and learn the mystical teachings given by Jesus to assist all humanity in becoming Christlike. Discover the secret meaning of the Gospels that were discovered in Egypt. Also discover how and why so many Christian churches came into being. Discover that the Bible still holds the keys to mystical realization even though its original writings were changed by the church. Discover how to practice the original teachings of Christianity which leads to the Kingdom of Heaven.",
          "Upon receiving his execution date, one of the thousands of men living on death row in the United States had an epiphany: “All there ever is, is this moment. You, me, all of us, right here, right now, this minute, that's love.” Right Here, Right Now collects the powerful, first-person stories of dozens of men on death rows across the country. From childhood experiences living with poverty, hunger, and violence to mental illness and police misconduct to coming to terms with their executions, these men outline their struggle to maintain their connection to society and sustain the humanity that incarceration and its daily insults attempt to extinguish. By offering their hopes, dreams, aspirations, fears, failures, and wounds, the men challenge us to reconsider whether our current justice system offers actual justice or simply perpetuates the social injustices that obscure our shared humanity.",
          "An updated and expanded version of a classic and essential text on prosody."
         ],
         "index": [
          0,
          1,
          2,
          3,
          4
         ],
         "popularity": [
          "Unpopular",
          "Unpopular",
          "Unpopular",
          "Unpopular",
          "Unpopular"
         ],
         "price": [
          10.88,
          9.35,
          24.95,
          7.99,
          32.5
         ],
         "review/helpfulness": [
          "2/3",
          "0/0",
          "17/19",
          "0/1",
          "18/20"
         ],
         "review/summary": [
          "A Great Book about women in WWII",
          "Very helpful book for church prayer groups and if you are by yourself.",
          "Universal Spiritual Awakening Guide With Some Too Radical Approaches",
          "Ben Kincaid tries to stop an execution.",
          "good introduction to modern prosody"
         ],
         "review/text": [
          "I have alway been a fan of fiction books set in WW2,even though I am not sure why. I recently decided to see if that interst went over to non-fiction so I bought &quot;We Band of Angels&quot; and I was so glad that I did. This was a great book about nurses that served during this time. I don't think that any of them ever thought that they would ever see combat, but when it came they were truly amazing people during one of histories darkest hour. A must read.",
          "Very helpful book to give you a better prayer life. It brings clarity and understanding of how to have an effective prayer life.",
          "The message of this book is to find yourself as that what you are: The Self, without any separations. Everything is the Supreme Being. Realize your divinity, and everybody and everything else's! It is the task of the spiritual seeker to go beyond the veil of outer forms of religion, including symbols, doctrines, rituals and traditions. No matter what branch of religion, when you have mastered its myths and rituals, you are taken further, into the mysticism, which is always of the above knowledge. This book includes Buddhism, Christianity, Hinduism, Islam, Judaism, Taoism, Yoga and some other branches, which are all derived from the Ancient Egyptian religion.Comparisons are not only made via the similarities of myths, e.g. the quasi identical child stories of Heru, Krishna, Jesus, etc., but the universal wisdom behind such metaphorical stories. The official religion leaders may have persecuted those wisdom seekers who appear in the form of Christian Gnostics or Muslim Sufis etc. It has been a power struggle of the respective Orthodox officials versus the Yoga branches.The book is helping in the elimination of dualism, egoism, anger, greed addiction, nationalism, religious hate, sexism and any other separation. (Though further help via knowledge may be necessary and some separations have been left out.) With that, the cycle of birth and death gets broken, as well as the concept of hell.All of this is done from many perspectives. Which by itself becomes repetitive. The books repeats in addition to that.Usually indirectly, the author assumes at several points that the ancient Jews including Moses and Abraham would have been white, leading to some wrong conclusions from that, e.g. the origin of racism supposedly deriving from the Jewish concept of not marrying outside themselves. In reality, most of them became lighter-skinned, BECAUSE of so much procreating with \"outsiders\". Read for exampleThe Africans Who Wrote the Bible. Moses would be metaphorical. ReadMoses and Akhenaten: The Secret History of Egypt at the Time of the Exodusfor a much different perspective. Occasionally I found it difficult to differentiate of what the author was writing about: Egypt, Ethiopia/Axum or Sudan/Nubia, for the interchangeable use of vocabulary.Occasionally the book takes its ways too far, something prone to happen in religion and human minds in general. It is correct in saying that celibacy allows spiritual energy to build up in such abundance, that great works may be written for humanity. But please: No absolutism! There isn't the metaphor of going into the desert for 40 days for nothing: After that, please return! If you don't, several things are bound to happen: Ever more radicalism. In medievil European times, youths were burnt at the stake for wet dreams in some places, in others the VICTIMS of rape as sick. After roughly two centuries the absolutely celibate Christian \"Shakers\" of the USA are virtually extinct (adoption and proselytizing coulnd't stop that trend). A divided society of two spiritual classes under the Vatican. The celibacy wisdom from eastern Asia is based on lacking ancient knowledge. It was presumed that during orgasm of mostly males, a liquid of lifeforce would be lost to the body. For one thing: The body isn't meant to be eternal. That liquid makes sure, it will get renewed via a new body. For another: If that liquid doesn't leave the body, it will turn \"dead\" after four days. If it doesn't get expelled automatically during sleep, it will get reabsorbed by the body like a black and blue mark. Eastern knowledge also says orgasm is one of the short experiences of a divine state. Use sexuality in a conscious, different than plain addiction way, maybe with some breaks once in a while. There's no need for further nurturing the meme pool of medievil sex-hostility.As a RastafarI I was enjoyed to read a spiritual book which largely corresponds to my overstanding of spirituality. In utter irony, in its two pages devoted to \"Rastafarianism\" [sic!], the author basically avers this branch of religion wouldn't \"understand\" a thing. Which is the only religion, he is saying that about in its entirety. I couldn't believe the words I was reading. If any other author would have written something absurd like this... but for this one such a sloppy non-overstanding is simply embarassing. I mean, even the minister-author of the blatantly ANTI-gnosticDread Jesusprovides involuntary knowledge about RastafarI to the contrary. Obviously, Muata Abhaya Ashby escaped the 1983 bookRastafari: For the Healing of the Nations. I am amazed he didn't even wonder about the \"I-and-I\" concept (instead of \"we\"), to come up with some conclusion of compatibility with his vision. But then again, I-n-I live in anti-Rasta Imes. Accordingly, this sub-chapter insults RastafarI as a belief, \"fomenting unrest and divisiveness between peoples\" and with Jah as having died. Additionally, the author wastes precious space with supposedly strict food laws, including ones against milk and coffee. ??? Some digestive tracts may not react this well to milk and personally I am not too fond of the taste of coffee, though I'd like to hear another Rasta reprimanding me for drinking an originally Ethiopian beverage, should I ever chose to do so! I have no idea, where the author collected his very superficial and monolithic ideas, so here's a message: In the terms as used by the author, guess what: There are Orthodox and Yoga branches within RastafarI as well.This book also leaves out, what the author would term Science Yoga. For that readFrom Science to God: A Physicist's Journey into the Mystery of Consciousness.Other readers may find it inconvenient to read about the severing of family ties. My advice: Do not fall for ever more radical, literal interpretations, otherwise this basic wisdom will get pushed from the pedestal entirely sooner or later by yourself or a following generation. Also the illusion of the current concept of civilisation and democracy are valid ideas, including that the separation of state and religion has opened the doors to corruption, exploitation and similar unethical behaviour by political and economical leaders. However, that isn't much different with various religious leaders including countries with no such separation. The solution has yet to be worked out instead of a somehow suggested either-or approach.The publication itself isn't for perfectionists. Included is an ad for a guide to self-publishing. This edition of \"1998-2006\" sure provides some hints of what to take better care of. The resolution of images is largely a catastrophe. References to the cover pictures are obviously from another edition. The captions within the book are occasionally switched. There are even captions without any images and a caption erasing the main text. Footnotes may have been provided within the text already, a chapter features a non-existing Roman numeral, etc. and the title of the book has been changed. Originally, it was preceded with \"Christian Yoga Volume 1:\" There's much ado about a 2nd Volume, yet I wasn't able to find any trace of it.Keep in mind, that the supersize of this book (28 x 21cm) basically doubles the small print content of its 256 regular text pages to that of normal-sized books.",
          "The hero of William Bernhardt's Ben Kincaid novels is a socially inept but legally astute Oklahoma criminal defense attorney. Traditionally, a Ben Kincaid novel features a great deal of cutesy banter and coy behavior on the part of Ben and his wacky office staff. There is still some of that in &quot;Death Row,&quot; but this book proves to be much more harrowing and serious than the usual Bernhardt fare.The first chapter of &quot;Death Row&quot; is frightening and disturbing. The reader is immediately plunged into an apparent home invasion in which a family is brutally tortured and murdered, with one survivor desperately trying to break free before she too is killed. We then fast forward seven years later to the trial of Ray Goldman, who is convicted and sentenced to die for the killing of the aforementioned family. Ben Kincaid is handling Goldman's case. With the help of his good friend and law partner, Christina McCall, Ben desperately tries to postpone the execution so that he can find evidence that will exonerate his client.There is an entertaining subplot featuring Major Mike Morelli, Ben's former brother-in-law. Morelli is a homicide detective who is forced to pair up with a new partner, a woman who is as irritating as she is beautiful. Morelli and his partner get embroiled in Ben's case when several women connected with the investigation are found dead, both apparent suicides. Did these women really kill themselves or were they murdered?The plot thickens as Ben, Mike and their colleagues dig deeper and deeper to get at the truth of what really happened seven years ago. &quot;Death Row&quot; is an absorbing and hard-hitting thriller with many surprising twists and turns. The book is fast-paced and the humor is appropriately restrained considering the subject matter of the novel. I do have one or two quibbles, however. There are several coincidences in the book that make little sense. In addition, as in his previous books, Bernhardt persists in having Ben and Christina relate emotionally to one another like lovesick teenagers. It would be nice to see these two behave like mature adults. Still &quot;Death Row&quot; is one of the best Ben Kincaid novels that Bernhardt has written in years and I recommend it.",
          "There's a lot in this book which the reader will see repeated in other books on prosody -- an introductory chapter dealing with the relations between form and rhythm on one hand and content and meaning on the other; an analysis of the changes between Romantic versification and the modern period, beginning with the work of Dickinson, Hopkins, Hardy, and Whitman; the importance of the Imagists; the opening shots by Pound and Eliot in the Modernist revolution; and a few other topics.Most of the book is handled very well. It's refreshing to see an analysis of Browning's pentameter style which emphasizes not his &quot;colloquial&quot; approach, as so many others do, but instead lauds the extent to which he moves AWAY from the colloquial style and more toward roughness and jaggedness. The Modern period is handled with finesse as well. The drawbacks to the book, in my opinion, begin with the period closer to the present. Some of the analyses on free verse do not make as much sense as similar analyses in Paul Fussell's &quot;Poetic Meter and Poetic Form,&quot; despite the more recent volume's indebtedness to the former. As D. H. Lawrence said, it is no use manufacturing fancy laws for the governing of free verse. Too much weight is given to some poets who are clearly minor, such as Maxine Kumin, and too little to poets whose craftsmanship is unquestioned, such as Robert Lowell. Most oddly, there is no attention given to two of the finer formal craftsmen of recent history, James Merrill and Derek Walcott; these two use free verse but also expand the boundaries of traditional metrical approaches, and their efforts here should not go unnoticed. And I might take issue with the expanded coverage given to the most recent trend in prosody, the New Formalists, simply because, as I noted in my review of &quot;Rebel Angels&quot; for Amazon, they aren't that good and they haven't ADVANCED metrical techniques that much.Aside from these qualms, &quot;Sound and Form&quot; is a good survey of prosody of the ! last century."
         ],
         "title": [
          "We Band of Angels: The Untold Story of American Nurses Trapped on Bataan by the Japanese",
          "Prayer That Brings Revival: Interceding for God to move in your family, church, and community",
          "The Mystical Journey from Jesus to Christ",
          "Death Row",
          "Sound and Form in Modern Poetry: Second Edition (Ann Arbor Paperbacks)"
         ]
        },
        "schema": {
         "fields": [
          {
           "name": "index",
           "type": "integer"
          },
          {
           "name": "title",
           "type": "string"
          },
          {
           "name": "price",
           "type": "number"
          },
          {
           "name": "review/helpfulness",
           "type": "string"
          },
          {
           "name": "review/summary",
           "type": "string"
          },
          {
           "name": "review/text",
           "type": "string"
          },
          {
           "name": "description",
           "type": "string"
          },
          {
           "name": "authors",
           "type": "string"
          },
          {
           "name": "categories",
           "type": "string"
          },
          {
           "name": "popularity",
           "type": "string"
          }
         ],
         "pandas_version": "1.4.0",
         "primaryKey": [
          "index"
         ]
        }
       },
       "total_rows": 5,
       "truncation_type": null
      },
      "text/html": [
       "<div>\n",
       "<style scoped>\n",
       "    .dataframe tbody tr th:only-of-type {\n",
       "        vertical-align: middle;\n",
       "    }\n",
       "\n",
       "    .dataframe tbody tr th {\n",
       "        vertical-align: top;\n",
       "    }\n",
       "\n",
       "    .dataframe thead th {\n",
       "        text-align: right;\n",
       "    }\n",
       "</style>\n",
       "<table border=\"1\" class=\"dataframe\">\n",
       "  <thead>\n",
       "    <tr style=\"text-align: right;\">\n",
       "      <th></th>\n",
       "      <th>title</th>\n",
       "      <th>price</th>\n",
       "      <th>review/helpfulness</th>\n",
       "      <th>review/summary</th>\n",
       "      <th>review/text</th>\n",
       "      <th>description</th>\n",
       "      <th>authors</th>\n",
       "      <th>categories</th>\n",
       "      <th>popularity</th>\n",
       "    </tr>\n",
       "  </thead>\n",
       "  <tbody>\n",
       "    <tr>\n",
       "      <th>0</th>\n",
       "      <td>We Band of Angels: The Untold Story of America...</td>\n",
       "      <td>10.88</td>\n",
       "      <td>2/3</td>\n",
       "      <td>A Great Book about women in WWII</td>\n",
       "      <td>I have alway been a fan of fiction books set i...</td>\n",
       "      <td>In the fall of 1941, the Philippines was a gar...</td>\n",
       "      <td>'Elizabeth Norman'</td>\n",
       "      <td>'History'</td>\n",
       "      <td>Unpopular</td>\n",
       "    </tr>\n",
       "    <tr>\n",
       "      <th>1</th>\n",
       "      <td>Prayer That Brings Revival: Interceding for Go...</td>\n",
       "      <td>9.35</td>\n",
       "      <td>0/0</td>\n",
       "      <td>Very helpful book for church prayer groups and...</td>\n",
       "      <td>Very helpful book to give you a better prayer ...</td>\n",
       "      <td>In Prayer That Brings Revival, best-selling au...</td>\n",
       "      <td>'Yong-gi Cho'</td>\n",
       "      <td>'Religion'</td>\n",
       "      <td>Unpopular</td>\n",
       "    </tr>\n",
       "    <tr>\n",
       "      <th>2</th>\n",
       "      <td>The Mystical Journey from Jesus to Christ</td>\n",
       "      <td>24.95</td>\n",
       "      <td>17/19</td>\n",
       "      <td>Universal Spiritual Awakening Guide With Some ...</td>\n",
       "      <td>The message of this book is to find yourself a...</td>\n",
       "      <td>THE MYSTICAL JOURNEY FROM JESUS TO CHRIST Disc...</td>\n",
       "      <td>'Muata Ashby'</td>\n",
       "      <td>'Body, Mind &amp; Spirit'</td>\n",
       "      <td>Unpopular</td>\n",
       "    </tr>\n",
       "    <tr>\n",
       "      <th>3</th>\n",
       "      <td>Death Row</td>\n",
       "      <td>7.99</td>\n",
       "      <td>0/1</td>\n",
       "      <td>Ben Kincaid tries to stop an execution.</td>\n",
       "      <td>The hero of William Bernhardt's Ben Kincaid no...</td>\n",
       "      <td>Upon receiving his execution date, one of the ...</td>\n",
       "      <td>'Lynden Harris'</td>\n",
       "      <td>'Social Science'</td>\n",
       "      <td>Unpopular</td>\n",
       "    </tr>\n",
       "    <tr>\n",
       "      <th>4</th>\n",
       "      <td>Sound and Form in Modern Poetry: Second Editio...</td>\n",
       "      <td>32.50</td>\n",
       "      <td>18/20</td>\n",
       "      <td>good introduction to modern prosody</td>\n",
       "      <td>There's a lot in this book which the reader wi...</td>\n",
       "      <td>An updated and expanded version of a classic a...</td>\n",
       "      <td>'Harvey Seymour Gross', 'Robert McDowell'</td>\n",
       "      <td>'Poetry'</td>\n",
       "      <td>Unpopular</td>\n",
       "    </tr>\n",
       "  </tbody>\n",
       "</table>\n",
       "</div>"
      ],
      "text/plain": [
       "                                               title  ...  popularity\n",
       "0  We Band of Angels: The Untold Story of America...  ...   Unpopular\n",
       "1  Prayer That Brings Revival: Interceding for Go...  ...   Unpopular\n",
       "2          The Mystical Journey from Jesus to Christ  ...   Unpopular\n",
       "3                                          Death Row  ...   Unpopular\n",
       "4  Sound and Form in Modern Poetry: Second Editio...  ...   Unpopular\n",
       "\n",
       "[5 rows x 9 columns]"
      ]
     },
     "execution_count": 91,
     "metadata": {
      "application/com.datacamp.data-table.v2+json": {
       "status": "success"
      }
     },
     "output_type": "execute_result"
    }
   ],
   "source": [
    "# Import some required packages\n",
    "import pandas as pd\n",
    "\n",
    "# Read in the dataset\n",
    "books = pd.read_csv(\"data/books.csv\")\n",
    "\n",
    "# Preview the first five rows\n",
    "books.head()"
   ]
  },
  {
   "cell_type": "code",
   "execution_count": 92,
   "id": "632c158f-a34f-48d8-8ab1-de295f565833",
   "metadata": {
    "executionCancelledAt": null,
    "executionTime": 55,
    "lastExecutedAt": 1746933117538,
    "lastExecutedByKernel": "7b9f45f3-d61d-44d5-9d77-7ed107c294e3",
    "lastScheduledRunId": null,
    "lastSuccessfullyExecutedCode": "books.popularity.value_counts()",
    "outputsMetadata": {
     "0": {
      "height": 50,
      "tableState": {
       "customFilter": {
        "const": {
         "type": "boolean",
         "valid": true,
         "value": true
        },
        "id": "cee02904-4bf3-4df5-8f28-ee733550fc02",
        "nodeType": "const"
       }
      },
      "type": "dataFrame"
     }
    }
   },
   "outputs": [
    {
     "data": {
      "application/com.datacamp.data-table.v2+json": {
       "table": {
        "data": {
         "index": [
          "Unpopular",
          "Popular"
         ],
         "popularity": [
          10490,
          5229
         ]
        },
        "schema": {
         "fields": [
          {
           "name": "index",
           "type": "string"
          },
          {
           "name": "popularity",
           "type": "integer"
          }
         ],
         "pandas_version": "1.4.0",
         "primaryKey": [
          "index"
         ]
        }
       },
       "total_rows": 2,
       "truncation_type": null
      },
      "text/plain": [
       "Unpopular    10490\n",
       "Popular       5229\n",
       "Name: popularity, dtype: int64"
      ]
     },
     "execution_count": 92,
     "metadata": {
      "application/com.datacamp.data-table.v2+json": {
       "status": "success"
      }
     },
     "output_type": "execute_result"
    }
   ],
   "source": [
    "books.popularity.value_counts()"
   ]
  },
  {
   "cell_type": "code",
   "execution_count": 93,
   "id": "5dc7ef67-867a-4569-8384-17d56d6d63e5",
   "metadata": {
    "executionCancelledAt": null,
    "executionTime": 51,
    "lastExecutedAt": 1746933117589,
    "lastExecutedByKernel": "7b9f45f3-d61d-44d5-9d77-7ed107c294e3",
    "lastScheduledRunId": null,
    "lastSuccessfullyExecutedCode": "books = books.groupby(\"categories\").filter(lambda x: len(x) > 100)\nbooks[\"categories\"].value_counts()",
    "outputsMetadata": {
     "0": {
      "height": 550,
      "tableState": {
       "customFilter": {
        "const": {
         "type": "boolean",
         "valid": true,
         "value": true
        },
        "id": "cee02904-4bf3-4df5-8f28-ee733550fc02",
        "nodeType": "const"
       }
      },
      "type": "dataFrame"
     }
    }
   },
   "outputs": [
    {
     "data": {
      "application/com.datacamp.data-table.v2+json": {
       "table": {
        "data": {
         "categories": [
          3520,
          1053,
          852,
          815,
          754,
          707,
          513,
          486,
          414,
          398,
          360,
          306,
          280,
          263,
          246,
          245,
          241,
          214,
          206,
          191,
          177,
          173,
          147,
          145,
          144,
          136,
          125,
          124,
          114,
          110,
          108,
          107,
          105,
          102
         ],
         "index": [
          "'Fiction'",
          "'Religion'",
          "'Biography & Autobiography'",
          "'Juvenile Fiction'",
          "'History'",
          "'Business & Economics'",
          "'Computers'",
          "'Family & Relationships'",
          "'Health & Fitness'",
          "'Cooking'",
          "'Body, Mind & Spirit'",
          "'Music'",
          "'Juvenile Nonfiction'",
          "'Self-Help'",
          "'Political Science'",
          "'Sports & Recreation'",
          "'Social Science'",
          "'Education'",
          "'Psychology'",
          "'Science'",
          "'Humor'",
          "'Crafts & Hobbies'",
          "'Nature'",
          "'Philosophy'",
          "'Language Arts & Disciplines'",
          "'Performing Arts'",
          "'Pets'",
          "'Foreign Language Study'",
          "'Poetry'",
          "'Comics & Graphic Novels'",
          "'Art'",
          "'Young Adult Fiction'",
          "'Travel'",
          "'Reference'"
         ]
        },
        "schema": {
         "fields": [
          {
           "name": "index",
           "type": "string"
          },
          {
           "name": "categories",
           "type": "integer"
          }
         ],
         "pandas_version": "1.4.0",
         "primaryKey": [
          "index"
         ]
        }
       },
       "total_rows": 34,
       "truncation_type": null
      },
      "text/plain": [
       "'Fiction'                        3520\n",
       "'Religion'                       1053\n",
       "'Biography & Autobiography'       852\n",
       "'Juvenile Fiction'                815\n",
       "'History'                         754\n",
       "'Business & Economics'            707\n",
       "'Computers'                       513\n",
       "'Family & Relationships'          486\n",
       "'Health & Fitness'                414\n",
       "'Cooking'                         398\n",
       "'Body, Mind & Spirit'             360\n",
       "'Music'                           306\n",
       "'Juvenile Nonfiction'             280\n",
       "'Self-Help'                       263\n",
       "'Political Science'               246\n",
       "'Sports & Recreation'             245\n",
       "'Social Science'                  241\n",
       "'Education'                       214\n",
       "'Psychology'                      206\n",
       "'Science'                         191\n",
       "'Humor'                           177\n",
       "'Crafts & Hobbies'                173\n",
       "'Nature'                          147\n",
       "'Philosophy'                      145\n",
       "'Language Arts & Disciplines'     144\n",
       "'Performing Arts'                 136\n",
       "'Pets'                            125\n",
       "'Foreign Language Study'          124\n",
       "'Poetry'                          114\n",
       "'Comics & Graphic Novels'         110\n",
       "'Art'                             108\n",
       "'Young Adult Fiction'             107\n",
       "'Travel'                          105\n",
       "'Reference'                       102\n",
       "Name: categories, dtype: int64"
      ]
     },
     "execution_count": 93,
     "metadata": {
      "application/com.datacamp.data-table.v2+json": {
       "status": "success"
      }
     },
     "output_type": "execute_result"
    }
   ],
   "source": [
    "books = books.groupby(\"categories\").filter(lambda x: len(x) > 100)\n",
    "books[\"categories\"].value_counts()"
   ]
  },
  {
   "cell_type": "code",
   "execution_count": 94,
   "id": "07954209-ade1-498f-9662-e9214d3ab55f",
   "metadata": {
    "executionCancelledAt": null,
    "executionTime": 49,
    "lastExecutedAt": 1746933117638,
    "lastExecutedByKernel": "7b9f45f3-d61d-44d5-9d77-7ed107c294e3",
    "lastScheduledRunId": null,
    "lastSuccessfullyExecutedCode": "categories = pd.get_dummies(books.categories,drop_first=True)"
   },
   "outputs": [],
   "source": [
    "categories = pd.get_dummies(books.categories,drop_first=True)"
   ]
  },
  {
   "cell_type": "code",
   "execution_count": 95,
   "id": "e8063efc-5cfa-48ed-b738-480bc453bc72",
   "metadata": {
    "executionCancelledAt": null,
    "executionTime": null,
    "lastExecutedAt": null,
    "lastExecutedByKernel": null,
    "lastScheduledRunId": null,
    "lastSuccessfullyExecutedCode": null,
    "outputsMetadata": {
     "0": {
      "height": 50,
      "tableState": {
       "customFilter": {
        "const": {
         "type": "boolean",
         "valid": true,
         "value": true
        },
        "id": "cee02904-4bf3-4df5-8f28-ee733550fc02",
        "nodeType": "const"
       }
      },
      "type": "dataFrame"
     }
    }
   },
   "outputs": [
    {
     "data": {
      "application/com.datacamp.data-table.v2+json": {
       "table": {
        "data": {
         "'Biography & Autobiography'": [
          0,
          0,
          0,
          0,
          0
         ],
         "'Body, Mind & Spirit'": [
          0,
          0,
          1,
          0,
          0
         ],
         "'Business & Economics'": [
          0,
          0,
          0,
          0,
          0
         ],
         "'Comics & Graphic Novels'": [
          0,
          0,
          0,
          0,
          0
         ],
         "'Computers'": [
          0,
          0,
          0,
          0,
          0
         ],
         "'Cooking'": [
          0,
          0,
          0,
          0,
          0
         ],
         "'Crafts & Hobbies'": [
          0,
          0,
          0,
          0,
          0
         ],
         "'Education'": [
          0,
          0,
          0,
          0,
          0
         ],
         "'Family & Relationships'": [
          0,
          0,
          0,
          0,
          0
         ],
         "'Fiction'": [
          0,
          0,
          0,
          0,
          0
         ],
         "'Foreign Language Study'": [
          0,
          0,
          0,
          0,
          0
         ],
         "'Health & Fitness'": [
          0,
          0,
          0,
          0,
          0
         ],
         "'History'": [
          1,
          0,
          0,
          0,
          0
         ],
         "'Humor'": [
          0,
          0,
          0,
          0,
          0
         ],
         "'Juvenile Fiction'": [
          0,
          0,
          0,
          0,
          0
         ],
         "'Juvenile Nonfiction'": [
          0,
          0,
          0,
          0,
          0
         ],
         "'Language Arts & Disciplines'": [
          0,
          0,
          0,
          0,
          0
         ],
         "'Music'": [
          0,
          0,
          0,
          0,
          0
         ],
         "'Nature'": [
          0,
          0,
          0,
          0,
          0
         ],
         "'Performing Arts'": [
          0,
          0,
          0,
          0,
          0
         ],
         "'Pets'": [
          0,
          0,
          0,
          0,
          0
         ],
         "'Philosophy'": [
          0,
          0,
          0,
          0,
          0
         ],
         "'Poetry'": [
          0,
          0,
          0,
          0,
          1
         ],
         "'Political Science'": [
          0,
          0,
          0,
          0,
          0
         ],
         "'Psychology'": [
          0,
          0,
          0,
          0,
          0
         ],
         "'Reference'": [
          0,
          0,
          0,
          0,
          0
         ],
         "'Religion'": [
          0,
          1,
          0,
          0,
          0
         ],
         "'Science'": [
          0,
          0,
          0,
          0,
          0
         ],
         "'Self-Help'": [
          0,
          0,
          0,
          0,
          0
         ],
         "'Social Science'": [
          0,
          0,
          0,
          1,
          0
         ],
         "'Sports & Recreation'": [
          0,
          0,
          0,
          0,
          0
         ],
         "'Travel'": [
          0,
          0,
          0,
          0,
          0
         ],
         "'Young Adult Fiction'": [
          0,
          0,
          0,
          0,
          0
         ],
         "index": [
          0,
          1,
          2,
          3,
          4
         ]
        },
        "schema": {
         "fields": [
          {
           "name": "index",
           "type": "integer"
          },
          {
           "name": "'Biography & Autobiography'",
           "type": "integer"
          },
          {
           "name": "'Body, Mind & Spirit'",
           "type": "integer"
          },
          {
           "name": "'Business & Economics'",
           "type": "integer"
          },
          {
           "name": "'Comics & Graphic Novels'",
           "type": "integer"
          },
          {
           "name": "'Computers'",
           "type": "integer"
          },
          {
           "name": "'Cooking'",
           "type": "integer"
          },
          {
           "name": "'Crafts & Hobbies'",
           "type": "integer"
          },
          {
           "name": "'Education'",
           "type": "integer"
          },
          {
           "name": "'Family & Relationships'",
           "type": "integer"
          },
          {
           "name": "'Fiction'",
           "type": "integer"
          },
          {
           "name": "'Foreign Language Study'",
           "type": "integer"
          },
          {
           "name": "'Health & Fitness'",
           "type": "integer"
          },
          {
           "name": "'History'",
           "type": "integer"
          },
          {
           "name": "'Humor'",
           "type": "integer"
          },
          {
           "name": "'Juvenile Fiction'",
           "type": "integer"
          },
          {
           "name": "'Juvenile Nonfiction'",
           "type": "integer"
          },
          {
           "name": "'Language Arts & Disciplines'",
           "type": "integer"
          },
          {
           "name": "'Music'",
           "type": "integer"
          },
          {
           "name": "'Nature'",
           "type": "integer"
          },
          {
           "name": "'Performing Arts'",
           "type": "integer"
          },
          {
           "name": "'Pets'",
           "type": "integer"
          },
          {
           "name": "'Philosophy'",
           "type": "integer"
          },
          {
           "name": "'Poetry'",
           "type": "integer"
          },
          {
           "name": "'Political Science'",
           "type": "integer"
          },
          {
           "name": "'Psychology'",
           "type": "integer"
          },
          {
           "name": "'Reference'",
           "type": "integer"
          },
          {
           "name": "'Religion'",
           "type": "integer"
          },
          {
           "name": "'Science'",
           "type": "integer"
          },
          {
           "name": "'Self-Help'",
           "type": "integer"
          },
          {
           "name": "'Social Science'",
           "type": "integer"
          },
          {
           "name": "'Sports & Recreation'",
           "type": "integer"
          },
          {
           "name": "'Travel'",
           "type": "integer"
          },
          {
           "name": "'Young Adult Fiction'",
           "type": "integer"
          }
         ],
         "pandas_version": "1.4.0",
         "primaryKey": [
          "index"
         ]
        }
       },
       "total_rows": 5,
       "truncation_type": null
      },
      "text/html": [
       "<div>\n",
       "<style scoped>\n",
       "    .dataframe tbody tr th:only-of-type {\n",
       "        vertical-align: middle;\n",
       "    }\n",
       "\n",
       "    .dataframe tbody tr th {\n",
       "        vertical-align: top;\n",
       "    }\n",
       "\n",
       "    .dataframe thead th {\n",
       "        text-align: right;\n",
       "    }\n",
       "</style>\n",
       "<table border=\"1\" class=\"dataframe\">\n",
       "  <thead>\n",
       "    <tr style=\"text-align: right;\">\n",
       "      <th></th>\n",
       "      <th>'Biography &amp; Autobiography'</th>\n",
       "      <th>'Body, Mind &amp; Spirit'</th>\n",
       "      <th>'Business &amp; Economics'</th>\n",
       "      <th>'Comics &amp; Graphic Novels'</th>\n",
       "      <th>'Computers'</th>\n",
       "      <th>'Cooking'</th>\n",
       "      <th>'Crafts &amp; Hobbies'</th>\n",
       "      <th>'Education'</th>\n",
       "      <th>'Family &amp; Relationships'</th>\n",
       "      <th>'Fiction'</th>\n",
       "      <th>'Foreign Language Study'</th>\n",
       "      <th>'Health &amp; Fitness'</th>\n",
       "      <th>'History'</th>\n",
       "      <th>'Humor'</th>\n",
       "      <th>'Juvenile Fiction'</th>\n",
       "      <th>'Juvenile Nonfiction'</th>\n",
       "      <th>'Language Arts &amp; Disciplines'</th>\n",
       "      <th>'Music'</th>\n",
       "      <th>'Nature'</th>\n",
       "      <th>'Performing Arts'</th>\n",
       "      <th>'Pets'</th>\n",
       "      <th>'Philosophy'</th>\n",
       "      <th>'Poetry'</th>\n",
       "      <th>'Political Science'</th>\n",
       "      <th>'Psychology'</th>\n",
       "      <th>'Reference'</th>\n",
       "      <th>'Religion'</th>\n",
       "      <th>'Science'</th>\n",
       "      <th>'Self-Help'</th>\n",
       "      <th>'Social Science'</th>\n",
       "      <th>'Sports &amp; Recreation'</th>\n",
       "      <th>'Travel'</th>\n",
       "      <th>'Young Adult Fiction'</th>\n",
       "    </tr>\n",
       "  </thead>\n",
       "  <tbody>\n",
       "    <tr>\n",
       "      <th>0</th>\n",
       "      <td>0</td>\n",
       "      <td>0</td>\n",
       "      <td>0</td>\n",
       "      <td>0</td>\n",
       "      <td>0</td>\n",
       "      <td>0</td>\n",
       "      <td>0</td>\n",
       "      <td>0</td>\n",
       "      <td>0</td>\n",
       "      <td>0</td>\n",
       "      <td>0</td>\n",
       "      <td>0</td>\n",
       "      <td>1</td>\n",
       "      <td>0</td>\n",
       "      <td>0</td>\n",
       "      <td>0</td>\n",
       "      <td>0</td>\n",
       "      <td>0</td>\n",
       "      <td>0</td>\n",
       "      <td>0</td>\n",
       "      <td>0</td>\n",
       "      <td>0</td>\n",
       "      <td>0</td>\n",
       "      <td>0</td>\n",
       "      <td>0</td>\n",
       "      <td>0</td>\n",
       "      <td>0</td>\n",
       "      <td>0</td>\n",
       "      <td>0</td>\n",
       "      <td>0</td>\n",
       "      <td>0</td>\n",
       "      <td>0</td>\n",
       "      <td>0</td>\n",
       "    </tr>\n",
       "    <tr>\n",
       "      <th>1</th>\n",
       "      <td>0</td>\n",
       "      <td>0</td>\n",
       "      <td>0</td>\n",
       "      <td>0</td>\n",
       "      <td>0</td>\n",
       "      <td>0</td>\n",
       "      <td>0</td>\n",
       "      <td>0</td>\n",
       "      <td>0</td>\n",
       "      <td>0</td>\n",
       "      <td>0</td>\n",
       "      <td>0</td>\n",
       "      <td>0</td>\n",
       "      <td>0</td>\n",
       "      <td>0</td>\n",
       "      <td>0</td>\n",
       "      <td>0</td>\n",
       "      <td>0</td>\n",
       "      <td>0</td>\n",
       "      <td>0</td>\n",
       "      <td>0</td>\n",
       "      <td>0</td>\n",
       "      <td>0</td>\n",
       "      <td>0</td>\n",
       "      <td>0</td>\n",
       "      <td>0</td>\n",
       "      <td>1</td>\n",
       "      <td>0</td>\n",
       "      <td>0</td>\n",
       "      <td>0</td>\n",
       "      <td>0</td>\n",
       "      <td>0</td>\n",
       "      <td>0</td>\n",
       "    </tr>\n",
       "    <tr>\n",
       "      <th>2</th>\n",
       "      <td>0</td>\n",
       "      <td>1</td>\n",
       "      <td>0</td>\n",
       "      <td>0</td>\n",
       "      <td>0</td>\n",
       "      <td>0</td>\n",
       "      <td>0</td>\n",
       "      <td>0</td>\n",
       "      <td>0</td>\n",
       "      <td>0</td>\n",
       "      <td>0</td>\n",
       "      <td>0</td>\n",
       "      <td>0</td>\n",
       "      <td>0</td>\n",
       "      <td>0</td>\n",
       "      <td>0</td>\n",
       "      <td>0</td>\n",
       "      <td>0</td>\n",
       "      <td>0</td>\n",
       "      <td>0</td>\n",
       "      <td>0</td>\n",
       "      <td>0</td>\n",
       "      <td>0</td>\n",
       "      <td>0</td>\n",
       "      <td>0</td>\n",
       "      <td>0</td>\n",
       "      <td>0</td>\n",
       "      <td>0</td>\n",
       "      <td>0</td>\n",
       "      <td>0</td>\n",
       "      <td>0</td>\n",
       "      <td>0</td>\n",
       "      <td>0</td>\n",
       "    </tr>\n",
       "    <tr>\n",
       "      <th>3</th>\n",
       "      <td>0</td>\n",
       "      <td>0</td>\n",
       "      <td>0</td>\n",
       "      <td>0</td>\n",
       "      <td>0</td>\n",
       "      <td>0</td>\n",
       "      <td>0</td>\n",
       "      <td>0</td>\n",
       "      <td>0</td>\n",
       "      <td>0</td>\n",
       "      <td>0</td>\n",
       "      <td>0</td>\n",
       "      <td>0</td>\n",
       "      <td>0</td>\n",
       "      <td>0</td>\n",
       "      <td>0</td>\n",
       "      <td>0</td>\n",
       "      <td>0</td>\n",
       "      <td>0</td>\n",
       "      <td>0</td>\n",
       "      <td>0</td>\n",
       "      <td>0</td>\n",
       "      <td>0</td>\n",
       "      <td>0</td>\n",
       "      <td>0</td>\n",
       "      <td>0</td>\n",
       "      <td>0</td>\n",
       "      <td>0</td>\n",
       "      <td>0</td>\n",
       "      <td>1</td>\n",
       "      <td>0</td>\n",
       "      <td>0</td>\n",
       "      <td>0</td>\n",
       "    </tr>\n",
       "    <tr>\n",
       "      <th>4</th>\n",
       "      <td>0</td>\n",
       "      <td>0</td>\n",
       "      <td>0</td>\n",
       "      <td>0</td>\n",
       "      <td>0</td>\n",
       "      <td>0</td>\n",
       "      <td>0</td>\n",
       "      <td>0</td>\n",
       "      <td>0</td>\n",
       "      <td>0</td>\n",
       "      <td>0</td>\n",
       "      <td>0</td>\n",
       "      <td>0</td>\n",
       "      <td>0</td>\n",
       "      <td>0</td>\n",
       "      <td>0</td>\n",
       "      <td>0</td>\n",
       "      <td>0</td>\n",
       "      <td>0</td>\n",
       "      <td>0</td>\n",
       "      <td>0</td>\n",
       "      <td>0</td>\n",
       "      <td>1</td>\n",
       "      <td>0</td>\n",
       "      <td>0</td>\n",
       "      <td>0</td>\n",
       "      <td>0</td>\n",
       "      <td>0</td>\n",
       "      <td>0</td>\n",
       "      <td>0</td>\n",
       "      <td>0</td>\n",
       "      <td>0</td>\n",
       "      <td>0</td>\n",
       "    </tr>\n",
       "  </tbody>\n",
       "</table>\n",
       "</div>"
      ],
      "text/plain": [
       "   'Biography & Autobiography'  ...  'Young Adult Fiction'\n",
       "0                            0  ...                      0\n",
       "1                            0  ...                      0\n",
       "2                            0  ...                      0\n",
       "3                            0  ...                      0\n",
       "4                            0  ...                      0\n",
       "\n",
       "[5 rows x 33 columns]"
      ]
     },
     "execution_count": 95,
     "metadata": {
      "application/com.datacamp.data-table.v2+json": {
       "status": "success"
      }
     },
     "output_type": "execute_result"
    }
   ],
   "source": [
    "categories.head()"
   ]
  },
  {
   "cell_type": "code",
   "execution_count": 96,
   "id": "56413337-bdc8-4723-8f09-3814de9ae79a",
   "metadata": {
    "executionCancelledAt": null,
    "executionTime": 52,
    "lastExecutedAt": 1746933117765,
    "lastExecutedByKernel": "7b9f45f3-d61d-44d5-9d77-7ed107c294e3",
    "lastScheduledRunId": null,
    "lastSuccessfullyExecutedCode": "books = pd.concat([books, categories],axis = 1)\nbooks.head()\n\nbooks.drop(columns = [\"categories\"],inplace=True)\n",
    "outputsMetadata": {
     "0": {
      "height": 500,
      "tableState": {},
      "type": "dataFrame"
     }
    }
   },
   "outputs": [],
   "source": [
    "books = pd.concat([books, categories],axis = 1)\n",
    "books.head()\n",
    "\n",
    "books.drop(columns = [\"categories\"],inplace=True)\n"
   ]
  },
  {
   "cell_type": "code",
   "execution_count": 97,
   "id": "9bbddb8f-6a70-4e54-af84-eb6f5b1b4223",
   "metadata": {
    "executionCancelledAt": null,
    "executionTime": 55,
    "lastExecutedAt": 1746933117820,
    "lastExecutedByKernel": "7b9f45f3-d61d-44d5-9d77-7ed107c294e3",
    "lastScheduledRunId": null,
    "lastSuccessfullyExecutedCode": "books.head()",
    "outputsMetadata": {
     "0": {
      "height": 50,
      "tableState": {
       "customFilter": {
        "const": {
         "type": "boolean",
         "valid": true,
         "value": true
        },
        "id": "cee02904-4bf3-4df5-8f28-ee733550fc02",
        "nodeType": "const"
       }
      },
      "type": "dataFrame"
     }
    }
   },
   "outputs": [
    {
     "data": {
      "application/com.datacamp.data-table.v2+json": {
       "table": {
        "data": {
         "'Biography & Autobiography'": [
          0,
          0,
          0,
          0,
          0
         ],
         "'Body, Mind & Spirit'": [
          0,
          0,
          1,
          0,
          0
         ],
         "'Business & Economics'": [
          0,
          0,
          0,
          0,
          0
         ],
         "'Comics & Graphic Novels'": [
          0,
          0,
          0,
          0,
          0
         ],
         "'Computers'": [
          0,
          0,
          0,
          0,
          0
         ],
         "'Cooking'": [
          0,
          0,
          0,
          0,
          0
         ],
         "'Crafts & Hobbies'": [
          0,
          0,
          0,
          0,
          0
         ],
         "'Education'": [
          0,
          0,
          0,
          0,
          0
         ],
         "'Family & Relationships'": [
          0,
          0,
          0,
          0,
          0
         ],
         "'Fiction'": [
          0,
          0,
          0,
          0,
          0
         ],
         "'Foreign Language Study'": [
          0,
          0,
          0,
          0,
          0
         ],
         "'Health & Fitness'": [
          0,
          0,
          0,
          0,
          0
         ],
         "'History'": [
          1,
          0,
          0,
          0,
          0
         ],
         "'Humor'": [
          0,
          0,
          0,
          0,
          0
         ],
         "'Juvenile Fiction'": [
          0,
          0,
          0,
          0,
          0
         ],
         "'Juvenile Nonfiction'": [
          0,
          0,
          0,
          0,
          0
         ],
         "'Language Arts & Disciplines'": [
          0,
          0,
          0,
          0,
          0
         ],
         "'Music'": [
          0,
          0,
          0,
          0,
          0
         ],
         "'Nature'": [
          0,
          0,
          0,
          0,
          0
         ],
         "'Performing Arts'": [
          0,
          0,
          0,
          0,
          0
         ],
         "'Pets'": [
          0,
          0,
          0,
          0,
          0
         ],
         "'Philosophy'": [
          0,
          0,
          0,
          0,
          0
         ],
         "'Poetry'": [
          0,
          0,
          0,
          0,
          1
         ],
         "'Political Science'": [
          0,
          0,
          0,
          0,
          0
         ],
         "'Psychology'": [
          0,
          0,
          0,
          0,
          0
         ],
         "'Reference'": [
          0,
          0,
          0,
          0,
          0
         ],
         "'Religion'": [
          0,
          1,
          0,
          0,
          0
         ],
         "'Science'": [
          0,
          0,
          0,
          0,
          0
         ],
         "'Self-Help'": [
          0,
          0,
          0,
          0,
          0
         ],
         "'Social Science'": [
          0,
          0,
          0,
          1,
          0
         ],
         "'Sports & Recreation'": [
          0,
          0,
          0,
          0,
          0
         ],
         "'Travel'": [
          0,
          0,
          0,
          0,
          0
         ],
         "'Young Adult Fiction'": [
          0,
          0,
          0,
          0,
          0
         ],
         "authors": [
          "'Elizabeth Norman'",
          "'Yong-gi Cho'",
          "'Muata Ashby'",
          "'Lynden Harris'",
          "'Harvey Seymour Gross', 'Robert McDowell'"
         ],
         "description": [
          "In the fall of 1941, the Philippines was a gardenia-scented paradise for the American Army and Navy nurses stationed there. War was a distant rumor, life a routine of easy shifts and dinners under the stars. On December 8 all that changed, as Japanese bombs began raining down on American bases in Luzon, and this paradise became a fiery hell. Caught in the raging battle, the nurses set up field hospitals in the jungles of Bataan and the tunnels of Corregidor, where they tended to the most devastating injuries of war, and suffered the terrors of shells and shrapnel. But the worst was yet to come. After Bataan and Corregidor fell, the nurses were herded into internment camps where they would endure three years of fear, brutality, and starvation. Once liberated, they returned to an America that at first celebrated them, but later refused to honor their leaders with the medals they clearly deserved. Here, in letters, diaries, and riveting firsthand accounts, is the story of what really happened during those dark days, woven together in a deeply affecting saga of women in war. Praise for We Band of Angels “Gripping . . . a war story in which the main characters never kill one of the enemy, or even shoot at him, but are nevertheless heroes . . . Americans today should thank God we had such women.”—Stephen E. Ambrose “Remarkable and uplifting.”—USA Today “[Elizabeth M. Norman] brings a quiet, scholarly voice to this narrative. . . . In just a little over six months these women had turned from plucky young girls on a mild adventure to authentic heroes. . . . Every page of this history is fascinating.”—Carolyn See, The Washington Post “Riveting . . . poignant and powerful.”—The Dallas Morning News Winner of the Lavinia Dock Award for historical scholarship, the American Academy of Nursing National Media Award, and the Agnes Dillon Randolph Award",
          "In Prayer That Brings Revival, best-selling author David Yonggi Cho shares key principles to having the kind of prayer life that will move your mountains and stir revival in home, church, and community. This book will: -Show you how prayer produces power. -Teach you the key to prayer and fasting. -Prepare you to wait on the Lord. -Help you to pray longer, with more persistence. -Instruct you on how to listen to God's voice.",
          "THE MYSTICAL JOURNEY FROM JESUS TO CHRIST Discover the ancient Egyptian origins of Christianity before the Catholic Church and learn the mystical teachings given by Jesus to assist all humanity in becoming Christlike. Discover the secret meaning of the Gospels that were discovered in Egypt. Also discover how and why so many Christian churches came into being. Discover that the Bible still holds the keys to mystical realization even though its original writings were changed by the church. Discover how to practice the original teachings of Christianity which leads to the Kingdom of Heaven.",
          "Upon receiving his execution date, one of the thousands of men living on death row in the United States had an epiphany: “All there ever is, is this moment. You, me, all of us, right here, right now, this minute, that's love.” Right Here, Right Now collects the powerful, first-person stories of dozens of men on death rows across the country. From childhood experiences living with poverty, hunger, and violence to mental illness and police misconduct to coming to terms with their executions, these men outline their struggle to maintain their connection to society and sustain the humanity that incarceration and its daily insults attempt to extinguish. By offering their hopes, dreams, aspirations, fears, failures, and wounds, the men challenge us to reconsider whether our current justice system offers actual justice or simply perpetuates the social injustices that obscure our shared humanity.",
          "An updated and expanded version of a classic and essential text on prosody."
         ],
         "index": [
          0,
          1,
          2,
          3,
          4
         ],
         "popularity": [
          "Unpopular",
          "Unpopular",
          "Unpopular",
          "Unpopular",
          "Unpopular"
         ],
         "price": [
          10.88,
          9.35,
          24.95,
          7.99,
          32.5
         ],
         "review/helpfulness": [
          "2/3",
          "0/0",
          "17/19",
          "0/1",
          "18/20"
         ],
         "review/summary": [
          "A Great Book about women in WWII",
          "Very helpful book for church prayer groups and if you are by yourself.",
          "Universal Spiritual Awakening Guide With Some Too Radical Approaches",
          "Ben Kincaid tries to stop an execution.",
          "good introduction to modern prosody"
         ],
         "review/text": [
          "I have alway been a fan of fiction books set in WW2,even though I am not sure why. I recently decided to see if that interst went over to non-fiction so I bought &quot;We Band of Angels&quot; and I was so glad that I did. This was a great book about nurses that served during this time. I don't think that any of them ever thought that they would ever see combat, but when it came they were truly amazing people during one of histories darkest hour. A must read.",
          "Very helpful book to give you a better prayer life. It brings clarity and understanding of how to have an effective prayer life.",
          "The message of this book is to find yourself as that what you are: The Self, without any separations. Everything is the Supreme Being. Realize your divinity, and everybody and everything else's! It is the task of the spiritual seeker to go beyond the veil of outer forms of religion, including symbols, doctrines, rituals and traditions. No matter what branch of religion, when you have mastered its myths and rituals, you are taken further, into the mysticism, which is always of the above knowledge. This book includes Buddhism, Christianity, Hinduism, Islam, Judaism, Taoism, Yoga and some other branches, which are all derived from the Ancient Egyptian religion.Comparisons are not only made via the similarities of myths, e.g. the quasi identical child stories of Heru, Krishna, Jesus, etc., but the universal wisdom behind such metaphorical stories. The official religion leaders may have persecuted those wisdom seekers who appear in the form of Christian Gnostics or Muslim Sufis etc. It has been a power struggle of the respective Orthodox officials versus the Yoga branches.The book is helping in the elimination of dualism, egoism, anger, greed addiction, nationalism, religious hate, sexism and any other separation. (Though further help via knowledge may be necessary and some separations have been left out.) With that, the cycle of birth and death gets broken, as well as the concept of hell.All of this is done from many perspectives. Which by itself becomes repetitive. The books repeats in addition to that.Usually indirectly, the author assumes at several points that the ancient Jews including Moses and Abraham would have been white, leading to some wrong conclusions from that, e.g. the origin of racism supposedly deriving from the Jewish concept of not marrying outside themselves. In reality, most of them became lighter-skinned, BECAUSE of so much procreating with \"outsiders\". Read for exampleThe Africans Who Wrote the Bible. Moses would be metaphorical. ReadMoses and Akhenaten: The Secret History of Egypt at the Time of the Exodusfor a much different perspective. Occasionally I found it difficult to differentiate of what the author was writing about: Egypt, Ethiopia/Axum or Sudan/Nubia, for the interchangeable use of vocabulary.Occasionally the book takes its ways too far, something prone to happen in religion and human minds in general. It is correct in saying that celibacy allows spiritual energy to build up in such abundance, that great works may be written for humanity. But please: No absolutism! There isn't the metaphor of going into the desert for 40 days for nothing: After that, please return! If you don't, several things are bound to happen: Ever more radicalism. In medievil European times, youths were burnt at the stake for wet dreams in some places, in others the VICTIMS of rape as sick. After roughly two centuries the absolutely celibate Christian \"Shakers\" of the USA are virtually extinct (adoption and proselytizing coulnd't stop that trend). A divided society of two spiritual classes under the Vatican. The celibacy wisdom from eastern Asia is based on lacking ancient knowledge. It was presumed that during orgasm of mostly males, a liquid of lifeforce would be lost to the body. For one thing: The body isn't meant to be eternal. That liquid makes sure, it will get renewed via a new body. For another: If that liquid doesn't leave the body, it will turn \"dead\" after four days. If it doesn't get expelled automatically during sleep, it will get reabsorbed by the body like a black and blue mark. Eastern knowledge also says orgasm is one of the short experiences of a divine state. Use sexuality in a conscious, different than plain addiction way, maybe with some breaks once in a while. There's no need for further nurturing the meme pool of medievil sex-hostility.As a RastafarI I was enjoyed to read a spiritual book which largely corresponds to my overstanding of spirituality. In utter irony, in its two pages devoted to \"Rastafarianism\" [sic!], the author basically avers this branch of religion wouldn't \"understand\" a thing. Which is the only religion, he is saying that about in its entirety. I couldn't believe the words I was reading. If any other author would have written something absurd like this... but for this one such a sloppy non-overstanding is simply embarassing. I mean, even the minister-author of the blatantly ANTI-gnosticDread Jesusprovides involuntary knowledge about RastafarI to the contrary. Obviously, Muata Abhaya Ashby escaped the 1983 bookRastafari: For the Healing of the Nations. I am amazed he didn't even wonder about the \"I-and-I\" concept (instead of \"we\"), to come up with some conclusion of compatibility with his vision. But then again, I-n-I live in anti-Rasta Imes. Accordingly, this sub-chapter insults RastafarI as a belief, \"fomenting unrest and divisiveness between peoples\" and with Jah as having died. Additionally, the author wastes precious space with supposedly strict food laws, including ones against milk and coffee. ??? Some digestive tracts may not react this well to milk and personally I am not too fond of the taste of coffee, though I'd like to hear another Rasta reprimanding me for drinking an originally Ethiopian beverage, should I ever chose to do so! I have no idea, where the author collected his very superficial and monolithic ideas, so here's a message: In the terms as used by the author, guess what: There are Orthodox and Yoga branches within RastafarI as well.This book also leaves out, what the author would term Science Yoga. For that readFrom Science to God: A Physicist's Journey into the Mystery of Consciousness.Other readers may find it inconvenient to read about the severing of family ties. My advice: Do not fall for ever more radical, literal interpretations, otherwise this basic wisdom will get pushed from the pedestal entirely sooner or later by yourself or a following generation. Also the illusion of the current concept of civilisation and democracy are valid ideas, including that the separation of state and religion has opened the doors to corruption, exploitation and similar unethical behaviour by political and economical leaders. However, that isn't much different with various religious leaders including countries with no such separation. The solution has yet to be worked out instead of a somehow suggested either-or approach.The publication itself isn't for perfectionists. Included is an ad for a guide to self-publishing. This edition of \"1998-2006\" sure provides some hints of what to take better care of. The resolution of images is largely a catastrophe. References to the cover pictures are obviously from another edition. The captions within the book are occasionally switched. There are even captions without any images and a caption erasing the main text. Footnotes may have been provided within the text already, a chapter features a non-existing Roman numeral, etc. and the title of the book has been changed. Originally, it was preceded with \"Christian Yoga Volume 1:\" There's much ado about a 2nd Volume, yet I wasn't able to find any trace of it.Keep in mind, that the supersize of this book (28 x 21cm) basically doubles the small print content of its 256 regular text pages to that of normal-sized books.",
          "The hero of William Bernhardt's Ben Kincaid novels is a socially inept but legally astute Oklahoma criminal defense attorney. Traditionally, a Ben Kincaid novel features a great deal of cutesy banter and coy behavior on the part of Ben and his wacky office staff. There is still some of that in &quot;Death Row,&quot; but this book proves to be much more harrowing and serious than the usual Bernhardt fare.The first chapter of &quot;Death Row&quot; is frightening and disturbing. The reader is immediately plunged into an apparent home invasion in which a family is brutally tortured and murdered, with one survivor desperately trying to break free before she too is killed. We then fast forward seven years later to the trial of Ray Goldman, who is convicted and sentenced to die for the killing of the aforementioned family. Ben Kincaid is handling Goldman's case. With the help of his good friend and law partner, Christina McCall, Ben desperately tries to postpone the execution so that he can find evidence that will exonerate his client.There is an entertaining subplot featuring Major Mike Morelli, Ben's former brother-in-law. Morelli is a homicide detective who is forced to pair up with a new partner, a woman who is as irritating as she is beautiful. Morelli and his partner get embroiled in Ben's case when several women connected with the investigation are found dead, both apparent suicides. Did these women really kill themselves or were they murdered?The plot thickens as Ben, Mike and their colleagues dig deeper and deeper to get at the truth of what really happened seven years ago. &quot;Death Row&quot; is an absorbing and hard-hitting thriller with many surprising twists and turns. The book is fast-paced and the humor is appropriately restrained considering the subject matter of the novel. I do have one or two quibbles, however. There are several coincidences in the book that make little sense. In addition, as in his previous books, Bernhardt persists in having Ben and Christina relate emotionally to one another like lovesick teenagers. It would be nice to see these two behave like mature adults. Still &quot;Death Row&quot; is one of the best Ben Kincaid novels that Bernhardt has written in years and I recommend it.",
          "There's a lot in this book which the reader will see repeated in other books on prosody -- an introductory chapter dealing with the relations between form and rhythm on one hand and content and meaning on the other; an analysis of the changes between Romantic versification and the modern period, beginning with the work of Dickinson, Hopkins, Hardy, and Whitman; the importance of the Imagists; the opening shots by Pound and Eliot in the Modernist revolution; and a few other topics.Most of the book is handled very well. It's refreshing to see an analysis of Browning's pentameter style which emphasizes not his &quot;colloquial&quot; approach, as so many others do, but instead lauds the extent to which he moves AWAY from the colloquial style and more toward roughness and jaggedness. The Modern period is handled with finesse as well. The drawbacks to the book, in my opinion, begin with the period closer to the present. Some of the analyses on free verse do not make as much sense as similar analyses in Paul Fussell's &quot;Poetic Meter and Poetic Form,&quot; despite the more recent volume's indebtedness to the former. As D. H. Lawrence said, it is no use manufacturing fancy laws for the governing of free verse. Too much weight is given to some poets who are clearly minor, such as Maxine Kumin, and too little to poets whose craftsmanship is unquestioned, such as Robert Lowell. Most oddly, there is no attention given to two of the finer formal craftsmen of recent history, James Merrill and Derek Walcott; these two use free verse but also expand the boundaries of traditional metrical approaches, and their efforts here should not go unnoticed. And I might take issue with the expanded coverage given to the most recent trend in prosody, the New Formalists, simply because, as I noted in my review of &quot;Rebel Angels&quot; for Amazon, they aren't that good and they haven't ADVANCED metrical techniques that much.Aside from these qualms, &quot;Sound and Form&quot; is a good survey of prosody of the ! last century."
         ],
         "title": [
          "We Band of Angels: The Untold Story of American Nurses Trapped on Bataan by the Japanese",
          "Prayer That Brings Revival: Interceding for God to move in your family, church, and community",
          "The Mystical Journey from Jesus to Christ",
          "Death Row",
          "Sound and Form in Modern Poetry: Second Edition (Ann Arbor Paperbacks)"
         ]
        },
        "schema": {
         "fields": [
          {
           "name": "index",
           "type": "integer"
          },
          {
           "name": "title",
           "type": "string"
          },
          {
           "name": "price",
           "type": "number"
          },
          {
           "name": "review/helpfulness",
           "type": "string"
          },
          {
           "name": "review/summary",
           "type": "string"
          },
          {
           "name": "review/text",
           "type": "string"
          },
          {
           "name": "description",
           "type": "string"
          },
          {
           "name": "authors",
           "type": "string"
          },
          {
           "name": "popularity",
           "type": "string"
          },
          {
           "name": "'Biography & Autobiography'",
           "type": "integer"
          },
          {
           "name": "'Body, Mind & Spirit'",
           "type": "integer"
          },
          {
           "name": "'Business & Economics'",
           "type": "integer"
          },
          {
           "name": "'Comics & Graphic Novels'",
           "type": "integer"
          },
          {
           "name": "'Computers'",
           "type": "integer"
          },
          {
           "name": "'Cooking'",
           "type": "integer"
          },
          {
           "name": "'Crafts & Hobbies'",
           "type": "integer"
          },
          {
           "name": "'Education'",
           "type": "integer"
          },
          {
           "name": "'Family & Relationships'",
           "type": "integer"
          },
          {
           "name": "'Fiction'",
           "type": "integer"
          },
          {
           "name": "'Foreign Language Study'",
           "type": "integer"
          },
          {
           "name": "'Health & Fitness'",
           "type": "integer"
          },
          {
           "name": "'History'",
           "type": "integer"
          },
          {
           "name": "'Humor'",
           "type": "integer"
          },
          {
           "name": "'Juvenile Fiction'",
           "type": "integer"
          },
          {
           "name": "'Juvenile Nonfiction'",
           "type": "integer"
          },
          {
           "name": "'Language Arts & Disciplines'",
           "type": "integer"
          },
          {
           "name": "'Music'",
           "type": "integer"
          },
          {
           "name": "'Nature'",
           "type": "integer"
          },
          {
           "name": "'Performing Arts'",
           "type": "integer"
          },
          {
           "name": "'Pets'",
           "type": "integer"
          },
          {
           "name": "'Philosophy'",
           "type": "integer"
          },
          {
           "name": "'Poetry'",
           "type": "integer"
          },
          {
           "name": "'Political Science'",
           "type": "integer"
          },
          {
           "name": "'Psychology'",
           "type": "integer"
          },
          {
           "name": "'Reference'",
           "type": "integer"
          },
          {
           "name": "'Religion'",
           "type": "integer"
          },
          {
           "name": "'Science'",
           "type": "integer"
          },
          {
           "name": "'Self-Help'",
           "type": "integer"
          },
          {
           "name": "'Social Science'",
           "type": "integer"
          },
          {
           "name": "'Sports & Recreation'",
           "type": "integer"
          },
          {
           "name": "'Travel'",
           "type": "integer"
          },
          {
           "name": "'Young Adult Fiction'",
           "type": "integer"
          }
         ],
         "pandas_version": "1.4.0",
         "primaryKey": [
          "index"
         ]
        }
       },
       "total_rows": 5,
       "truncation_type": null
      },
      "text/html": [
       "<div>\n",
       "<style scoped>\n",
       "    .dataframe tbody tr th:only-of-type {\n",
       "        vertical-align: middle;\n",
       "    }\n",
       "\n",
       "    .dataframe tbody tr th {\n",
       "        vertical-align: top;\n",
       "    }\n",
       "\n",
       "    .dataframe thead th {\n",
       "        text-align: right;\n",
       "    }\n",
       "</style>\n",
       "<table border=\"1\" class=\"dataframe\">\n",
       "  <thead>\n",
       "    <tr style=\"text-align: right;\">\n",
       "      <th></th>\n",
       "      <th>title</th>\n",
       "      <th>price</th>\n",
       "      <th>review/helpfulness</th>\n",
       "      <th>review/summary</th>\n",
       "      <th>review/text</th>\n",
       "      <th>description</th>\n",
       "      <th>authors</th>\n",
       "      <th>popularity</th>\n",
       "      <th>'Biography &amp; Autobiography'</th>\n",
       "      <th>'Body, Mind &amp; Spirit'</th>\n",
       "      <th>'Business &amp; Economics'</th>\n",
       "      <th>'Comics &amp; Graphic Novels'</th>\n",
       "      <th>'Computers'</th>\n",
       "      <th>'Cooking'</th>\n",
       "      <th>'Crafts &amp; Hobbies'</th>\n",
       "      <th>'Education'</th>\n",
       "      <th>'Family &amp; Relationships'</th>\n",
       "      <th>'Fiction'</th>\n",
       "      <th>'Foreign Language Study'</th>\n",
       "      <th>'Health &amp; Fitness'</th>\n",
       "      <th>'History'</th>\n",
       "      <th>'Humor'</th>\n",
       "      <th>'Juvenile Fiction'</th>\n",
       "      <th>'Juvenile Nonfiction'</th>\n",
       "      <th>'Language Arts &amp; Disciplines'</th>\n",
       "      <th>'Music'</th>\n",
       "      <th>'Nature'</th>\n",
       "      <th>'Performing Arts'</th>\n",
       "      <th>'Pets'</th>\n",
       "      <th>'Philosophy'</th>\n",
       "      <th>'Poetry'</th>\n",
       "      <th>'Political Science'</th>\n",
       "      <th>'Psychology'</th>\n",
       "      <th>'Reference'</th>\n",
       "      <th>'Religion'</th>\n",
       "      <th>'Science'</th>\n",
       "      <th>'Self-Help'</th>\n",
       "      <th>'Social Science'</th>\n",
       "      <th>'Sports &amp; Recreation'</th>\n",
       "      <th>'Travel'</th>\n",
       "      <th>'Young Adult Fiction'</th>\n",
       "    </tr>\n",
       "  </thead>\n",
       "  <tbody>\n",
       "    <tr>\n",
       "      <th>0</th>\n",
       "      <td>We Band of Angels: The Untold Story of America...</td>\n",
       "      <td>10.88</td>\n",
       "      <td>2/3</td>\n",
       "      <td>A Great Book about women in WWII</td>\n",
       "      <td>I have alway been a fan of fiction books set i...</td>\n",
       "      <td>In the fall of 1941, the Philippines was a gar...</td>\n",
       "      <td>'Elizabeth Norman'</td>\n",
       "      <td>Unpopular</td>\n",
       "      <td>0</td>\n",
       "      <td>0</td>\n",
       "      <td>0</td>\n",
       "      <td>0</td>\n",
       "      <td>0</td>\n",
       "      <td>0</td>\n",
       "      <td>0</td>\n",
       "      <td>0</td>\n",
       "      <td>0</td>\n",
       "      <td>0</td>\n",
       "      <td>0</td>\n",
       "      <td>0</td>\n",
       "      <td>1</td>\n",
       "      <td>0</td>\n",
       "      <td>0</td>\n",
       "      <td>0</td>\n",
       "      <td>0</td>\n",
       "      <td>0</td>\n",
       "      <td>0</td>\n",
       "      <td>0</td>\n",
       "      <td>0</td>\n",
       "      <td>0</td>\n",
       "      <td>0</td>\n",
       "      <td>0</td>\n",
       "      <td>0</td>\n",
       "      <td>0</td>\n",
       "      <td>0</td>\n",
       "      <td>0</td>\n",
       "      <td>0</td>\n",
       "      <td>0</td>\n",
       "      <td>0</td>\n",
       "      <td>0</td>\n",
       "      <td>0</td>\n",
       "    </tr>\n",
       "    <tr>\n",
       "      <th>1</th>\n",
       "      <td>Prayer That Brings Revival: Interceding for Go...</td>\n",
       "      <td>9.35</td>\n",
       "      <td>0/0</td>\n",
       "      <td>Very helpful book for church prayer groups and...</td>\n",
       "      <td>Very helpful book to give you a better prayer ...</td>\n",
       "      <td>In Prayer That Brings Revival, best-selling au...</td>\n",
       "      <td>'Yong-gi Cho'</td>\n",
       "      <td>Unpopular</td>\n",
       "      <td>0</td>\n",
       "      <td>0</td>\n",
       "      <td>0</td>\n",
       "      <td>0</td>\n",
       "      <td>0</td>\n",
       "      <td>0</td>\n",
       "      <td>0</td>\n",
       "      <td>0</td>\n",
       "      <td>0</td>\n",
       "      <td>0</td>\n",
       "      <td>0</td>\n",
       "      <td>0</td>\n",
       "      <td>0</td>\n",
       "      <td>0</td>\n",
       "      <td>0</td>\n",
       "      <td>0</td>\n",
       "      <td>0</td>\n",
       "      <td>0</td>\n",
       "      <td>0</td>\n",
       "      <td>0</td>\n",
       "      <td>0</td>\n",
       "      <td>0</td>\n",
       "      <td>0</td>\n",
       "      <td>0</td>\n",
       "      <td>0</td>\n",
       "      <td>0</td>\n",
       "      <td>1</td>\n",
       "      <td>0</td>\n",
       "      <td>0</td>\n",
       "      <td>0</td>\n",
       "      <td>0</td>\n",
       "      <td>0</td>\n",
       "      <td>0</td>\n",
       "    </tr>\n",
       "    <tr>\n",
       "      <th>2</th>\n",
       "      <td>The Mystical Journey from Jesus to Christ</td>\n",
       "      <td>24.95</td>\n",
       "      <td>17/19</td>\n",
       "      <td>Universal Spiritual Awakening Guide With Some ...</td>\n",
       "      <td>The message of this book is to find yourself a...</td>\n",
       "      <td>THE MYSTICAL JOURNEY FROM JESUS TO CHRIST Disc...</td>\n",
       "      <td>'Muata Ashby'</td>\n",
       "      <td>Unpopular</td>\n",
       "      <td>0</td>\n",
       "      <td>1</td>\n",
       "      <td>0</td>\n",
       "      <td>0</td>\n",
       "      <td>0</td>\n",
       "      <td>0</td>\n",
       "      <td>0</td>\n",
       "      <td>0</td>\n",
       "      <td>0</td>\n",
       "      <td>0</td>\n",
       "      <td>0</td>\n",
       "      <td>0</td>\n",
       "      <td>0</td>\n",
       "      <td>0</td>\n",
       "      <td>0</td>\n",
       "      <td>0</td>\n",
       "      <td>0</td>\n",
       "      <td>0</td>\n",
       "      <td>0</td>\n",
       "      <td>0</td>\n",
       "      <td>0</td>\n",
       "      <td>0</td>\n",
       "      <td>0</td>\n",
       "      <td>0</td>\n",
       "      <td>0</td>\n",
       "      <td>0</td>\n",
       "      <td>0</td>\n",
       "      <td>0</td>\n",
       "      <td>0</td>\n",
       "      <td>0</td>\n",
       "      <td>0</td>\n",
       "      <td>0</td>\n",
       "      <td>0</td>\n",
       "    </tr>\n",
       "    <tr>\n",
       "      <th>3</th>\n",
       "      <td>Death Row</td>\n",
       "      <td>7.99</td>\n",
       "      <td>0/1</td>\n",
       "      <td>Ben Kincaid tries to stop an execution.</td>\n",
       "      <td>The hero of William Bernhardt's Ben Kincaid no...</td>\n",
       "      <td>Upon receiving his execution date, one of the ...</td>\n",
       "      <td>'Lynden Harris'</td>\n",
       "      <td>Unpopular</td>\n",
       "      <td>0</td>\n",
       "      <td>0</td>\n",
       "      <td>0</td>\n",
       "      <td>0</td>\n",
       "      <td>0</td>\n",
       "      <td>0</td>\n",
       "      <td>0</td>\n",
       "      <td>0</td>\n",
       "      <td>0</td>\n",
       "      <td>0</td>\n",
       "      <td>0</td>\n",
       "      <td>0</td>\n",
       "      <td>0</td>\n",
       "      <td>0</td>\n",
       "      <td>0</td>\n",
       "      <td>0</td>\n",
       "      <td>0</td>\n",
       "      <td>0</td>\n",
       "      <td>0</td>\n",
       "      <td>0</td>\n",
       "      <td>0</td>\n",
       "      <td>0</td>\n",
       "      <td>0</td>\n",
       "      <td>0</td>\n",
       "      <td>0</td>\n",
       "      <td>0</td>\n",
       "      <td>0</td>\n",
       "      <td>0</td>\n",
       "      <td>0</td>\n",
       "      <td>1</td>\n",
       "      <td>0</td>\n",
       "      <td>0</td>\n",
       "      <td>0</td>\n",
       "    </tr>\n",
       "    <tr>\n",
       "      <th>4</th>\n",
       "      <td>Sound and Form in Modern Poetry: Second Editio...</td>\n",
       "      <td>32.50</td>\n",
       "      <td>18/20</td>\n",
       "      <td>good introduction to modern prosody</td>\n",
       "      <td>There's a lot in this book which the reader wi...</td>\n",
       "      <td>An updated and expanded version of a classic a...</td>\n",
       "      <td>'Harvey Seymour Gross', 'Robert McDowell'</td>\n",
       "      <td>Unpopular</td>\n",
       "      <td>0</td>\n",
       "      <td>0</td>\n",
       "      <td>0</td>\n",
       "      <td>0</td>\n",
       "      <td>0</td>\n",
       "      <td>0</td>\n",
       "      <td>0</td>\n",
       "      <td>0</td>\n",
       "      <td>0</td>\n",
       "      <td>0</td>\n",
       "      <td>0</td>\n",
       "      <td>0</td>\n",
       "      <td>0</td>\n",
       "      <td>0</td>\n",
       "      <td>0</td>\n",
       "      <td>0</td>\n",
       "      <td>0</td>\n",
       "      <td>0</td>\n",
       "      <td>0</td>\n",
       "      <td>0</td>\n",
       "      <td>0</td>\n",
       "      <td>0</td>\n",
       "      <td>1</td>\n",
       "      <td>0</td>\n",
       "      <td>0</td>\n",
       "      <td>0</td>\n",
       "      <td>0</td>\n",
       "      <td>0</td>\n",
       "      <td>0</td>\n",
       "      <td>0</td>\n",
       "      <td>0</td>\n",
       "      <td>0</td>\n",
       "      <td>0</td>\n",
       "    </tr>\n",
       "  </tbody>\n",
       "</table>\n",
       "</div>"
      ],
      "text/plain": [
       "                                               title  ...  'Young Adult Fiction'\n",
       "0  We Band of Angels: The Untold Story of America...  ...                      0\n",
       "1  Prayer That Brings Revival: Interceding for Go...  ...                      0\n",
       "2          The Mystical Journey from Jesus to Christ  ...                      0\n",
       "3                                          Death Row  ...                      0\n",
       "4  Sound and Form in Modern Poetry: Second Editio...  ...                      0\n",
       "\n",
       "[5 rows x 41 columns]"
      ]
     },
     "execution_count": 97,
     "metadata": {
      "application/com.datacamp.data-table.v2+json": {
       "status": "success"
      }
     },
     "output_type": "execute_result"
    }
   ],
   "source": [
    "books.head()"
   ]
  },
  {
   "cell_type": "code",
   "execution_count": 98,
   "id": "a1475c20-af56-48b8-8c40-69fd9a18f213",
   "metadata": {
    "executionCancelledAt": null,
    "executionTime": 53,
    "lastExecutedAt": 1746933117873,
    "lastExecutedByKernel": "7b9f45f3-d61d-44d5-9d77-7ed107c294e3",
    "lastScheduledRunId": null,
    "lastSuccessfullyExecutedCode": "books[\"num_review\"] = books[\"review/helpfulness\"].str.split(\"/\",expand=True)[1].astype(int)\nbooks[\"num_helpful\"] = books[\"review/helpfulness\"].str.split(\"/\",expand=True)[0].astype(int)\nbooks.drop(columns=[\"review/helpfulness\"],inplace=True)"
   },
   "outputs": [],
   "source": [
    "books[\"num_review\"] = books[\"review/helpfulness\"].str.split(\"/\",expand=True)[1].astype(int)\n",
    "books[\"num_helpful\"] = books[\"review/helpfulness\"].str.split(\"/\",expand=True)[0].astype(int)\n",
    "books.drop(columns=[\"review/helpfulness\"],inplace=True)"
   ]
  },
  {
   "cell_type": "code",
   "execution_count": 99,
   "id": "ab0eed01-35fc-403f-84ff-b463fdc01385",
   "metadata": {
    "executionCancelledAt": null,
    "executionTime": 52,
    "lastExecutedAt": 1746933117925,
    "lastExecutedByKernel": "7b9f45f3-d61d-44d5-9d77-7ed107c294e3",
    "lastScheduledRunId": null,
    "lastSuccessfullyExecutedCode": "books[\"perc_helpful_reviews\"] = books[\"num_helpful\"] / books[\"num_review\"]\nbooks[\"perc_helpful_reviews\"].fillna(0,inplace=True)",
    "outputsMetadata": {
     "0": {
      "height": 616,
      "type": "stream"
     }
    }
   },
   "outputs": [],
   "source": [
    "books[\"perc_helpful_reviews\"] = books[\"num_helpful\"] / books[\"num_review\"]\n",
    "books[\"perc_helpful_reviews\"].fillna(0,inplace=True)"
   ]
  },
  {
   "cell_type": "code",
   "execution_count": 100,
   "id": "5882cc72-de47-4dc5-a2b4-6210c7ba5717",
   "metadata": {
    "executionCancelledAt": null,
    "executionTime": 55,
    "lastExecutedAt": 1746933117981,
    "lastExecutedByKernel": "7b9f45f3-d61d-44d5-9d77-7ed107c294e3",
    "lastScheduledRunId": null,
    "lastSuccessfullyExecutedCode": "for col in [\"review/summary\", \"review/text\", \"description\"]:\n    books[col] = books[col].str.lower()"
   },
   "outputs": [],
   "source": [
    "for col in [\"review/summary\", \"review/text\", \"description\"]:\n",
    "    books[col] = books[col].str.lower()"
   ]
  },
  {
   "cell_type": "code",
   "execution_count": 101,
   "id": "18d2e564-f41e-48d2-89f3-97fe75af83b8",
   "metadata": {
    "executionCancelledAt": null,
    "executionTime": 1011,
    "lastExecutedAt": 1746933118992,
    "lastExecutedByKernel": "7b9f45f3-d61d-44d5-9d77-7ed107c294e3",
    "lastScheduledRunId": null,
    "lastSuccessfullyExecutedCode": "from sklearn.feature_extraction.text import CountVectorizer\n\npositive_words = [\"great\", \"excellent\", \"good\", \"interesting\", \"enjoy\", \"helpful\", \"useful\", \"like\", \"love\", \"beautiful\", \"fantastic\", \"perfect\", \"wonderful\", \"impressive\", \"amazing\", \"outstanding\", \"remarkable\", \"brilliant\", \"exceptional\", \"positive\",\n    \"thrilling\"]\n\n# Instantiate a CountVectorizer\nvectorizer = CountVectorizer(vocabulary=positive_words)\nreview_text = books[\"review/text\"]\ntext_transformed = vectorizer.fit_transform(review_text.fillna(''))",
    "outputsMetadata": {
     "0": {
      "height": 616,
      "type": "stream"
     }
    }
   },
   "outputs": [],
   "source": [
    "from sklearn.feature_extraction.text import CountVectorizer\n",
    "\n",
    "positive_words = [\"great\", \"excellent\", \"good\", \"interesting\", \"enjoy\", \"helpful\", \"useful\", \"like\", \"love\", \"beautiful\", \"fantastic\", \"perfect\", \"wonderful\", \"impressive\", \"amazing\", \"outstanding\", \"remarkable\", \"brilliant\", \"exceptional\", \"positive\",\n",
    "    \"thrilling\"]\n",
    "\n",
    "# Instantiate a CountVectorizer\n",
    "vectorizer = CountVectorizer(vocabulary=positive_words)\n",
    "review_text = books[\"review/text\"]\n",
    "text_transformed = vectorizer.fit_transform(review_text.fillna(''))"
   ]
  },
  {
   "cell_type": "code",
   "execution_count": 102,
   "id": "d431cb60-e985-44af-9bbe-3f37b8dc2479",
   "metadata": {
    "executionCancelledAt": null,
    "executionTime": 883,
    "lastExecutedAt": 1746933119877,
    "lastExecutedByKernel": "7b9f45f3-d61d-44d5-9d77-7ed107c294e3",
    "lastScheduledRunId": null,
    "lastSuccessfullyExecutedCode": "# Fit and transform review/summary\nreview_summary = books[\"review/summary\"]\nsummary_transformed = vectorizer.fit_transform(review_summary.fillna(''))\n\n# Fit and transform description\ndescription = books[\"description\"]\ndescription_transformed = vectorizer.fit_transform(description.fillna(''))\n"
   },
   "outputs": [],
   "source": [
    "# Fit and transform review/summary\n",
    "review_summary = books[\"review/summary\"]\n",
    "summary_transformed = vectorizer.fit_transform(review_summary.fillna(''))\n",
    "\n",
    "# Fit and transform description\n",
    "description = books[\"description\"]\n",
    "description_transformed = vectorizer.fit_transform(description.fillna(''))\n"
   ]
  },
  {
   "cell_type": "code",
   "execution_count": 103,
   "id": "e4cf47c0-dc90-4cf0-b846-d795e6d49ed3",
   "metadata": {
    "executionCancelledAt": null,
    "executionTime": 50,
    "lastExecutedAt": 1746933119929,
    "lastExecutedByKernel": "7b9f45f3-d61d-44d5-9d77-7ed107c294e3",
    "lastScheduledRunId": null,
    "lastSuccessfullyExecutedCode": "# Add positive counts into DataFrame to add measures of positive sentiment\nbooks[\"positive_words_text\"] = text_transformed.sum(axis=1).reshape(-1, 1)\nbooks[\"positive_words_summary\"] = summary_transformed.sum(axis=1).reshape(-1, 1)\nbooks[\"positive_words_description\"] = description_transformed.sum(axis=1).reshape(-1, 1)"
   },
   "outputs": [],
   "source": [
    "# Add positive counts into DataFrame to add measures of positive sentiment\n",
    "books[\"positive_words_text\"] = text_transformed.sum(axis=1).reshape(-1, 1)\n",
    "books[\"positive_words_summary\"] = summary_transformed.sum(axis=1).reshape(-1, 1)\n",
    "books[\"positive_words_description\"] = description_transformed.sum(axis=1).reshape(-1, 1)"
   ]
  },
  {
   "cell_type": "code",
   "execution_count": 104,
   "id": "1a351c3c-1d45-4a0d-9545-6f9c684101e9",
   "metadata": {
    "executionCancelledAt": null,
    "executionTime": 56,
    "lastExecutedAt": 1746933119985,
    "lastExecutedByKernel": "7b9f45f3-d61d-44d5-9d77-7ed107c294e3",
    "lastScheduledRunId": null,
    "lastSuccessfullyExecutedCode": "# Remove original columns\nbooks.drop(columns=[\"review/text\", \"review/summary\", \"description\"], inplace=True)\n\n# Splitting into features and target values\nX = books.drop(columns=[\"title\", \"authors\", \"popularity\"]).values\ny = books[\"popularity\"].values.reshape(-1, 1)\n",
    "outputsMetadata": {
     "0": {
      "height": 550,
      "tableState": {
       "customFilter": {
        "const": {
         "type": "boolean",
         "valid": true,
         "value": true
        },
        "id": "cee02904-4bf3-4df5-8f28-ee733550fc02",
        "nodeType": "const"
       }
      },
      "type": "dataFrame"
     }
    }
   },
   "outputs": [],
   "source": [
    "# Remove original columns\n",
    "books.drop(columns=[\"review/text\", \"review/summary\", \"description\"], inplace=True)\n",
    "\n",
    "# Splitting into features and target values\n",
    "X = books.drop(columns=[\"title\", \"authors\", \"popularity\"]).values\n",
    "y = books[\"popularity\"].values.reshape(-1, 1)\n"
   ]
  },
  {
   "cell_type": "code",
   "execution_count": 105,
   "id": "2515f360-1a1c-4574-a443-cef4b3704e86",
   "metadata": {
    "executionCancelledAt": null,
    "executionTime": 52,
    "lastExecutedAt": 1746933120037,
    "lastExecutedByKernel": "7b9f45f3-d61d-44d5-9d77-7ed107c294e3",
    "lastScheduledRunId": null,
    "lastSuccessfullyExecutedCode": "from sklearn.model_selection import train_test_split\nX_train, X_test, y_train, y_test = train_test_split(X, y, test_size=0.3, random_state=42)",
    "outputsMetadata": {
     "0": {
      "height": 164,
      "type": "stream"
     }
    }
   },
   "outputs": [],
   "source": [
    "from sklearn.model_selection import train_test_split\n",
    "X_train, X_test, y_train, y_test = train_test_split(X, y, test_size=0.3, random_state=42)"
   ]
  },
  {
   "cell_type": "code",
   "execution_count": 106,
   "id": "44daaa52-d92a-4f01-9722-da4588efd09c",
   "metadata": {
    "executionCancelledAt": null,
    "executionTime": 48,
    "lastExecutedAt": 1746933120085,
    "lastExecutedByKernel": "7b9f45f3-d61d-44d5-9d77-7ed107c294e3",
    "lastScheduledRunId": null,
    "lastSuccessfullyExecutedCode": "from sklearn.ensemble import RandomForestClassifier"
   },
   "outputs": [],
   "source": [
    "from sklearn.ensemble import RandomForestClassifier"
   ]
  },
  {
   "cell_type": "code",
   "execution_count": 107,
   "id": "e7fcede2-2d9f-454d-8270-92ed2887a6f7",
   "metadata": {
    "executionCancelledAt": null,
    "executionTime": 1362,
    "lastExecutedAt": 1746933121447,
    "lastExecutedByKernel": "7b9f45f3-d61d-44d5-9d77-7ed107c294e3",
    "lastScheduledRunId": null,
    "lastSuccessfullyExecutedCode": "clf= RandomForestClassifier(n_estimators=120, max_depth=50, min_samples_split=5, random_state=42, class_weight=\"balanced\")\nclf.fit(X_train, y_train.ravel()) "
   },
   "outputs": [
    {
     "data": {
      "text/html": [
       "<style>#sk-container-id-2 {color: black;background-color: white;}#sk-container-id-2 pre{padding: 0;}#sk-container-id-2 div.sk-toggleable {background-color: white;}#sk-container-id-2 label.sk-toggleable__label {cursor: pointer;display: block;width: 100%;margin-bottom: 0;padding: 0.3em;box-sizing: border-box;text-align: center;}#sk-container-id-2 label.sk-toggleable__label-arrow:before {content: \"▸\";float: left;margin-right: 0.25em;color: #696969;}#sk-container-id-2 label.sk-toggleable__label-arrow:hover:before {color: black;}#sk-container-id-2 div.sk-estimator:hover label.sk-toggleable__label-arrow:before {color: black;}#sk-container-id-2 div.sk-toggleable__content {max-height: 0;max-width: 0;overflow: hidden;text-align: left;background-color: #f0f8ff;}#sk-container-id-2 div.sk-toggleable__content pre {margin: 0.2em;color: black;border-radius: 0.25em;background-color: #f0f8ff;}#sk-container-id-2 input.sk-toggleable__control:checked~div.sk-toggleable__content {max-height: 200px;max-width: 100%;overflow: auto;}#sk-container-id-2 input.sk-toggleable__control:checked~label.sk-toggleable__label-arrow:before {content: \"▾\";}#sk-container-id-2 div.sk-estimator input.sk-toggleable__control:checked~label.sk-toggleable__label {background-color: #d4ebff;}#sk-container-id-2 div.sk-label input.sk-toggleable__control:checked~label.sk-toggleable__label {background-color: #d4ebff;}#sk-container-id-2 input.sk-hidden--visually {border: 0;clip: rect(1px 1px 1px 1px);clip: rect(1px, 1px, 1px, 1px);height: 1px;margin: -1px;overflow: hidden;padding: 0;position: absolute;width: 1px;}#sk-container-id-2 div.sk-estimator {font-family: monospace;background-color: #f0f8ff;border: 1px dotted black;border-radius: 0.25em;box-sizing: border-box;margin-bottom: 0.5em;}#sk-container-id-2 div.sk-estimator:hover {background-color: #d4ebff;}#sk-container-id-2 div.sk-parallel-item::after {content: \"\";width: 100%;border-bottom: 1px solid gray;flex-grow: 1;}#sk-container-id-2 div.sk-label:hover label.sk-toggleable__label {background-color: #d4ebff;}#sk-container-id-2 div.sk-serial::before {content: \"\";position: absolute;border-left: 1px solid gray;box-sizing: border-box;top: 0;bottom: 0;left: 50%;z-index: 0;}#sk-container-id-2 div.sk-serial {display: flex;flex-direction: column;align-items: center;background-color: white;padding-right: 0.2em;padding-left: 0.2em;position: relative;}#sk-container-id-2 div.sk-item {position: relative;z-index: 1;}#sk-container-id-2 div.sk-parallel {display: flex;align-items: stretch;justify-content: center;background-color: white;position: relative;}#sk-container-id-2 div.sk-item::before, #sk-container-id-2 div.sk-parallel-item::before {content: \"\";position: absolute;border-left: 1px solid gray;box-sizing: border-box;top: 0;bottom: 0;left: 50%;z-index: -1;}#sk-container-id-2 div.sk-parallel-item {display: flex;flex-direction: column;z-index: 1;position: relative;background-color: white;}#sk-container-id-2 div.sk-parallel-item:first-child::after {align-self: flex-end;width: 50%;}#sk-container-id-2 div.sk-parallel-item:last-child::after {align-self: flex-start;width: 50%;}#sk-container-id-2 div.sk-parallel-item:only-child::after {width: 0;}#sk-container-id-2 div.sk-dashed-wrapped {border: 1px dashed gray;margin: 0 0.4em 0.5em 0.4em;box-sizing: border-box;padding-bottom: 0.4em;background-color: white;}#sk-container-id-2 div.sk-label label {font-family: monospace;font-weight: bold;display: inline-block;line-height: 1.2em;}#sk-container-id-2 div.sk-label-container {text-align: center;}#sk-container-id-2 div.sk-container {/* jupyter's `normalize.less` sets `[hidden] { display: none; }` but bootstrap.min.css set `[hidden] { display: none !important; }` so we also need the `!important` here to be able to override the default hidden behavior on the sphinx rendered scikit-learn.org. See: https://github.com/scikit-learn/scikit-learn/issues/21755 */display: inline-block !important;position: relative;}#sk-container-id-2 div.sk-text-repr-fallback {display: none;}</style><div id=\"sk-container-id-2\" class=\"sk-top-container\"><div class=\"sk-text-repr-fallback\"><pre>RandomForestClassifier(class_weight=&#x27;balanced&#x27;, max_depth=50,\n",
       "                       min_samples_split=5, n_estimators=120, random_state=42)</pre><b>In a Jupyter environment, please rerun this cell to show the HTML representation or trust the notebook. <br />On GitHub, the HTML representation is unable to render, please try loading this page with nbviewer.org.</b></div><div class=\"sk-container\" hidden><div class=\"sk-item\"><div class=\"sk-estimator sk-toggleable\"><input class=\"sk-toggleable__control sk-hidden--visually\" id=\"sk-estimator-id-2\" type=\"checkbox\" checked><label for=\"sk-estimator-id-2\" class=\"sk-toggleable__label sk-toggleable__label-arrow\">RandomForestClassifier</label><div class=\"sk-toggleable__content\"><pre>RandomForestClassifier(class_weight=&#x27;balanced&#x27;, max_depth=50,\n",
       "                       min_samples_split=5, n_estimators=120, random_state=42)</pre></div></div></div></div></div>"
      ],
      "text/plain": [
       "RandomForestClassifier(class_weight='balanced', max_depth=50,\n",
       "                       min_samples_split=5, n_estimators=120, random_state=42)"
      ]
     },
     "execution_count": 107,
     "metadata": {},
     "output_type": "execute_result"
    }
   ],
   "source": [
    "clf= RandomForestClassifier(n_estimators=120, max_depth=50, min_samples_split=5, random_state=42, class_weight=\"balanced\")\n",
    "clf.fit(X_train, y_train.ravel()) "
   ]
  },
  {
   "cell_type": "code",
   "execution_count": 108,
   "id": "3d03b1ee-f6af-4260-b7d6-ea40feb64976",
   "metadata": {
    "executionCancelledAt": null,
    "executionTime": 390,
    "lastExecutedAt": 1746933121837,
    "lastExecutedByKernel": "7b9f45f3-d61d-44d5-9d77-7ed107c294e3",
    "lastScheduledRunId": null,
    "lastSuccessfullyExecutedCode": "# Evaluate accuracy\nprint(clf.score(X_train, y_train))\nprint(clf.score(X_test, y_test))\n\nmodel_accuracy = clf.score(X_test, y_test)",
    "outputsMetadata": {
     "0": {
      "height": 58,
      "type": "stream"
     }
    }
   },
   "outputs": [
    {
     "name": "stdout",
     "output_type": "stream",
     "text": [
      "0.9617126389460683\n",
      "0.7090036014405763\n"
     ]
    }
   ],
   "source": [
    "# Evaluate accuracy\n",
    "print(clf.score(X_train, y_train))\n",
    "print(clf.score(X_test, y_test))\n",
    "\n",
    "model_accuracy = clf.score(X_test, y_test)"
   ]
  }
 ],
 "metadata": {
  "colab": {
   "name": "Welcome to DataCamp Workspaces.ipynb",
   "provenance": []
  },
  "editor": "DataLab",
  "kernelspec": {
   "display_name": "Python 3 (ipykernel)",
   "language": "python",
   "name": "python3"
  },
  "language_info": {
   "codemirror_mode": {
    "name": "ipython",
    "version": 3
   },
   "file_extension": ".py",
   "mimetype": "text/x-python",
   "name": "python",
   "nbconvert_exporter": "python",
   "pygments_lexer": "ipython3",
   "version": "3.8.10"
  }
 },
 "nbformat": 4,
 "nbformat_minor": 5
}
